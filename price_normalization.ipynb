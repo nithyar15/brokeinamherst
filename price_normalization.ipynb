{
  "nbformat": 4,
  "nbformat_minor": 0,
  "metadata": {
    "colab": {
      "provenance": []
    },
    "kernelspec": {
      "name": "python3",
      "display_name": "Python 3"
    },
    "language_info": {
      "name": "python"
    }
  },
  "cells": [
    {
      "cell_type": "code",
      "execution_count": 1,
      "metadata": {
        "colab": {
          "base_uri": "https://localhost:8080/"
        },
        "id": "NLI2wbc565iz",
        "outputId": "4d6f23b4-1900-4cca-e967-90b116c8c5c1"
      },
      "outputs": [
        {
          "output_type": "stream",
          "name": "stdout",
          "text": [
            "                                                   name  price  weight_oz  \\\n",
            "0                                  Italian Bread, 20 oz   2.49       20.0   \n",
            "1                                Artisanal Bread, 20 oz   2.85       20.0   \n",
            "2                             Italian Bread Loaf, 16 oz   4.39       16.0   \n",
            "3                                 Oat Bran Bread, 20 oz   2.19       20.0   \n",
            "4                          Cinnamon Raisin Bread, 16 oz   2.75       16.0   \n",
            "...                                                 ...    ...        ...   \n",
            "1251  Jif No Added Sugar Creamy Peanut Butter Spread...   3.12       15.5   \n",
            "1252  MaraNatha Organic No Sugar No Salt Creamy Pean...   5.47       16.0   \n",
            "1253           Great Value Crunchy Peanut Butter, 40 oz   3.98       40.0   \n",
            "1254  Smucker's Natural Creamy Peanut Butter, 16 Ounces   6.38        NaN   \n",
            "1255  Peanut Butter & Co, Simply Smooth, Peanut Butt...   4.54       16.0   \n",
            "\n",
            "      price_per_oz website_name  \n",
            "0         0.124500         ALDI  \n",
            "1         0.142500         ALDI  \n",
            "2         0.274375         ALDI  \n",
            "3         0.109500         ALDI  \n",
            "4         0.171875         ALDI  \n",
            "...            ...          ...  \n",
            "1251      0.201290  Walmart.com  \n",
            "1252      0.341875  Walmart.com  \n",
            "1253      0.099500  Walmart.com  \n",
            "1254           NaN  Walmart.com  \n",
            "1255      0.283750  Walmart.com  \n",
            "\n",
            "[1230 rows x 5 columns]\n"
          ]
        }
      ],
      "source": [
        "import pandas as pd\n",
        "\n",
        "# Load your CSV file (update 'your_file.csv' to the actual filename)\n",
        "data = pd.read_csv('cummulative_data.csv')\n",
        "\n",
        "# Remove any rows where 'price' or 'name' is missing\n",
        "data = data.dropna(subset=['price', 'name'])\n",
        "\n",
        "# Extract the weight in ounces from the 'name' column and convert it to a numeric value\n",
        "# We assume the weight is formatted as 'XX oz' in the name\n",
        "data['weight_oz'] = data['name'].str.extract(r'(\\d+(\\.\\d+)?) oz')[0].astype(float)\n",
        "\n",
        "# Calculate the price per ounce\n",
        "data['price_per_oz'] = data['price'] / data['weight_oz']\n",
        "\n",
        "# Display the updated DataFrame\n",
        "print(data[['name', 'price', 'weight_oz', 'price_per_oz', 'website_name']])"
      ]
    },
    {
      "cell_type": "code",
      "source": [],
      "metadata": {
        "id": "O8nbOfOF7QIh"
      },
      "execution_count": null,
      "outputs": []
    }
  ]
}